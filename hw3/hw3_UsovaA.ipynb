{
 "cells": [
  {
   "cell_type": "code",
   "execution_count": 1,
   "metadata": {},
   "outputs": [],
   "source": [
    "import numpy as np\n",
    "import scipy\n",
    "from scipy import stats"
   ]
  },
  {
   "cell_type": "markdown",
   "metadata": {},
   "source": [
    "### ДЗ-1"
   ]
  },
  {
   "cell_type": "code",
   "execution_count": 2,
   "metadata": {},
   "outputs": [],
   "source": [
    "N = 3.9*1e5\n",
    "a = 0.05\n",
    "mX = np.array([3.85, 31.13, 32.96, 29.92, 2.13]) * N / 100\n",
    "mY = np.array([7.92, 36.16, 25.09, 27.49, 3.34]) * N / 100"
   ]
  },
  {
   "cell_type": "markdown",
   "metadata": {},
   "source": [
    "<p>Проверим с помощью критерия однородности хи-2.<br/>\n",
    "<p> Статистика критерия: $Z=n_X*n_Y*\\chi^2_{n_X,n_Y}$ <br/>\n",
    "<p>$\\chi^2_{n_X,n_Y} = \\sum_{i=1}^{5}\\frac{1}{m^{X}_i+m^{Y}_i}*(\\frac{m^{X}_i}{n_X}-\\frac{m^{Y}_i}{n_Y})^2$ <br/>"
   ]
  },
  {
   "cell_type": "code",
   "execution_count": 3,
   "metadata": {},
   "outputs": [
    {
     "name": "stdout",
     "output_type": "stream",
     "text": [
      "Значение статистики 12561.329659286412\n"
     ]
    }
   ],
   "source": [
    "stat = np.sum(((mX - mY) / N)**2 / (mX + mY)) * N**2\n",
    "print(f'Значение статистики {stat}')"
   ]
  },
  {
   "cell_type": "code",
   "execution_count": 4,
   "metadata": {},
   "outputs": [
    {
     "name": "stdout",
     "output_type": "stream",
     "text": [
      "Квантиль хи-2 уровня 0.95 с 4 степенями свободы 9.487729036781154\n"
     ]
    }
   ],
   "source": [
    "chi2 = stats.chi2.ppf(1-a, df=4)\n",
    "print(f'Квантиль хи-2 уровня 0.95 с 4 степенями свободы {chi2}')"
   ]
  },
  {
   "cell_type": "markdown",
   "metadata": {},
   "source": [
    "Значение статистики больше, чем квантиль $\\chi^2_{n_X,n_Y}$ уровня $1-\\alpha\\ \\ \\Rightarrow$ Гипотеза однородности отвергается."
   ]
  },
  {
   "cell_type": "markdown",
   "metadata": {},
   "source": [
    "### ДЗ-2"
   ]
  },
  {
   "cell_type": "code",
   "execution_count": 5,
   "metadata": {},
   "outputs": [],
   "source": [
    "N = 2020\n",
    "nu = np.array([476, 1017, 527])"
   ]
  },
  {
   "cell_type": "code",
   "execution_count": 6,
   "metadata": {},
   "outputs": [
    {
     "name": "stdout",
     "output_type": "stream",
     "text": [
      "Значение статистики критерия 0.115846366881675\n"
     ]
    }
   ],
   "source": [
    "def estimation(theta):\n",
    "    p = np.array([(1 - theta)**2, 2 * theta * (1 - theta), theta**2])\n",
    "    return sum(((nu - N * p)**2) / (N * p))\n",
    "\n",
    "opt_result = scipy.optimize.minimize_scalar(estimation, method='Bounded', bounds = (0, 1))\n",
    "est_value = opt_result.fun\n",
    "print(f'Значение статистики критерия {est_value}')"
   ]
  },
  {
   "cell_type": "code",
   "execution_count": 7,
   "metadata": {},
   "outputs": [
    {
     "name": "stdout",
     "output_type": "stream",
     "text": [
      "Квантиль хи-2 уровня 0.95 с 1 степенями свободы 3.841458820694124\n"
     ]
    }
   ],
   "source": [
    "chi2 = stats.chi2.ppf(0.95, df=1)\n",
    "print(f'Квантиль хи-2 уровня 0.95 с 1 степенями свободы {chi2}')"
   ]
  },
  {
   "cell_type": "markdown",
   "metadata": {},
   "source": [
    "Значение статистики больше, чем квантиль $\\Rightarrow$ гипотеза не отвергается. Т.е. можно считать, что количество мальчиков в семье с 2 детьями - биномиальная сл.величина."
   ]
  }
 ],
 "metadata": {
  "kernelspec": {
   "display_name": "Python 3",
   "language": "python",
   "name": "python3"
  },
  "language_info": {
   "codemirror_mode": {
    "name": "ipython",
    "version": 3
   },
   "file_extension": ".py",
   "mimetype": "text/x-python",
   "name": "python",
   "nbconvert_exporter": "python",
   "pygments_lexer": "ipython3",
   "version": "3.7.4"
  }
 },
 "nbformat": 4,
 "nbformat_minor": 2
}
